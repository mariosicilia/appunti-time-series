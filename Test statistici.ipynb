{
 "cells": [
  {
   "cell_type": "markdown",
   "metadata": {},
   "source": [
    "# Test Statistici\n",
    "## Introduzione"
   ]
  },
  {
   "cell_type": "markdown",
   "metadata": {},
   "source": [
    "Lo studio di serie storiche con modelli statistici (ARMA, ARIMA, SARIMA, Holt-Winters,...) presuppone che la distribuzione abbia alcune caratteristiche come:\n",
    "* stazionarietà\n",
    "* indipendenza\n",
    "* distibuzione normale dei dati\n",
    "<br>\n",
    "Per verificare se sussistono queste caratteristiche bisogna effettuare alcuni test statistici. In python la principale libreria che racchiude questi strumenti è statsmodels, in particolare il modulo *tsa*."
   ]
  },
  {
   "cell_type": "markdown",
   "metadata": {},
   "source": [
    "link alla libreria: [statsmodels](https://www.statsmodels.org/stable/index.html)"
   ]
  },
  {
   "cell_type": "markdown",
   "metadata": {},
   "source": [
    "## Caricamento di Airpassengers"
   ]
  },
  {
   "cell_type": "code",
   "execution_count": null,
   "metadata": {},
   "outputs": [],
   "source": [
    "import pandas as pd\n",
    "import numpy as np\n",
    "import matplotlib.pyplot as plt\n",
    "%matplotlib inline"
   ]
  },
  {
   "cell_type": "markdown",
   "metadata": {},
   "source": [
    "Per prima cosa carichiamo la serie e vediamo:\n",
    "* i primi 5 valori\n",
    "* il plot dell'originale"
   ]
  },
  {
   "cell_type": "code",
   "execution_count": null,
   "metadata": {},
   "outputs": [],
   "source": [
    "airpassengers = pd.read_csv(\"airpassenger.csv\")\n",
    "airpassengers.columns = [\"Time\",\"Passengers\"]\n",
    "airpassengers.head()"
   ]
  },
  {
   "cell_type": "code",
   "execution_count": null,
   "metadata": {},
   "outputs": [],
   "source": [
    "plt.figure(figsize=(16,8))\n",
    "plt.plot(range(airpassengers.shape[0]), airpassengers[\"Passengers\"].values, color='tab:red')\n",
    "plt.gca().set(title=\"Airpassengers\", xlabel=\"Time\", ylabel=\"Passengers\")\n",
    "plt.show()"
   ]
  },
  {
   "cell_type": "markdown",
   "metadata": {},
   "source": [
    "## Componenti della serie"
   ]
  },
  {
   "cell_type": "markdown",
   "metadata": {},
   "source": [
    "Una serie storica ha solitamente quattro componenti:\n",
    "* *trend*\n",
    "* *ciclo*\n",
    "* *stagionalità*\n",
    "* *componente erratica*\n",
    "<br>\n",
    "In tsa esiste una funzione che decompone la serie e ci fa vedere 3 delle quattro componenti sopra elencate.\n",
    "<br>\n",
    "\n",
    "**N.B. La differenza tra ciclo e stagionalità. La stagionalità si presenta sui dodici mesi, il ciclo può essere mensile, seetimanale, ... non confondiamo.**"
   ]
  },
  {
   "cell_type": "code",
   "execution_count": null,
   "metadata": {},
   "outputs": [],
   "source": [
    "from statsmodels.tsa.seasonal import seasonal_decompose"
   ]
  },
  {
   "cell_type": "code",
   "execution_count": null,
   "metadata": {},
   "outputs": [],
   "source": [
    "decompose = seasonal_decompose(airpassengers[\"Passengers\"], model = \"multiplicative\", freq = 12)"
   ]
  },
  {
   "cell_type": "markdown",
   "metadata": {},
   "source": [
    "Sapevamo già che la serie è mensile, quindi frequenza 12, il model indica il tipo di stagionalità, se vediamo il grafico i picchi crescono al passare dei periodi, quindi l'interazione tra le componenti è moltiplicativa.\n",
    "<br>\n",
    "Nei grafici di seguito vediamo:\n",
    "1. La serie originale\n",
    "2. Il trend\n",
    "3. La stagionalità\n",
    "4. La componente erratica"
   ]
  },
  {
   "cell_type": "code",
   "execution_count": null,
   "metadata": {},
   "outputs": [],
   "source": [
    "decompose.plot()"
   ]
  },
  {
   "cell_type": "markdown",
   "metadata": {},
   "source": [
    "## Test sull'indipendenza"
   ]
  },
  {
   "cell_type": "markdown",
   "metadata": {},
   "source": [
    "Il test sull'indipendenza dei dati è il **Ljung-Box**.\n",
    "<br>\n",
    "Ha come ipotesi nulla che i dati sono indipendentemente distribuiti.\n",
    "Useremo un alpha pari al 5% per tutti i nostri test."
   ]
  }
 ],
 "metadata": {
  "kernelspec": {
   "display_name": "Python 3",
   "language": "python",
   "name": "python3"
  },
  "language_info": {
   "codemirror_mode": {
    "name": "ipython",
    "version": 3
   },
   "file_extension": ".py",
   "mimetype": "text/x-python",
   "name": "python",
   "nbconvert_exporter": "python",
   "pygments_lexer": "ipython3",
   "version": "3.6.8"
  }
 },
 "nbformat": 4,
 "nbformat_minor": 2
}
